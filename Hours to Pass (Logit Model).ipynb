{
 "cells": [
  {
   "cell_type": "code",
   "execution_count": 1,
   "metadata": {},
   "outputs": [],
   "source": [
    "import warnings\n",
    "import numpy as np\n",
    "import pandas as pd\n",
    "import statsmodels.api as sm\n",
    "\n",
    "from matplotlib import pyplot as plt"
   ]
  },
  {
   "cell_type": "code",
   "execution_count": 2,
   "metadata": {},
   "outputs": [],
   "source": [
    "Hours = [0.50,0.75,1.00,1.25,1.50,1.75,1.75,2.00,\n",
    "         2.25,2.50,2.75,3.00,3.25,3.50,4.0,4.25,\n",
    "         4.50,4.75,5.00,5.50]\n",
    "\n",
    "Pass = [0,0,0,0,0,0,1,0,1,0,1,0,1,0,1,1,1,1,1,1]"
   ]
  },
  {
   "cell_type": "code",
   "execution_count": 3,
   "metadata": {},
   "outputs": [
    {
     "data": {
      "text/html": [
       "<div>\n",
       "<style scoped>\n",
       "    .dataframe tbody tr th:only-of-type {\n",
       "        vertical-align: middle;\n",
       "    }\n",
       "\n",
       "    .dataframe tbody tr th {\n",
       "        vertical-align: top;\n",
       "    }\n",
       "\n",
       "    .dataframe thead th {\n",
       "        text-align: right;\n",
       "    }\n",
       "</style>\n",
       "<table border=\"1\" class=\"dataframe\">\n",
       "  <thead>\n",
       "    <tr style=\"text-align: right;\">\n",
       "      <th></th>\n",
       "      <th>Hours</th>\n",
       "      <th>Pass</th>\n",
       "    </tr>\n",
       "  </thead>\n",
       "  <tbody>\n",
       "    <tr>\n",
       "      <th>0</th>\n",
       "      <td>0.50</td>\n",
       "      <td>0</td>\n",
       "    </tr>\n",
       "    <tr>\n",
       "      <th>1</th>\n",
       "      <td>0.75</td>\n",
       "      <td>0</td>\n",
       "    </tr>\n",
       "    <tr>\n",
       "      <th>2</th>\n",
       "      <td>1.00</td>\n",
       "      <td>0</td>\n",
       "    </tr>\n",
       "    <tr>\n",
       "      <th>3</th>\n",
       "      <td>1.25</td>\n",
       "      <td>0</td>\n",
       "    </tr>\n",
       "    <tr>\n",
       "      <th>4</th>\n",
       "      <td>1.50</td>\n",
       "      <td>0</td>\n",
       "    </tr>\n",
       "  </tbody>\n",
       "</table>\n",
       "</div>"
      ],
      "text/plain": [
       "   Hours  Pass\n",
       "0   0.50     0\n",
       "1   0.75     0\n",
       "2   1.00     0\n",
       "3   1.25     0\n",
       "4   1.50     0"
      ]
     },
     "execution_count": 3,
     "metadata": {},
     "output_type": "execute_result"
    }
   ],
   "source": [
    "exam_dict={'Hours':Hours,'Pass':Pass}\n",
    "exam = pd.DataFrame(exam_dict)\n",
    "exam.head()"
   ]
  },
  {
   "cell_type": "code",
   "execution_count": 4,
   "metadata": {},
   "outputs": [
    {
     "name": "stdout",
     "output_type": "stream",
     "text": [
      "Optimization terminated successfully.\n",
      "         Current function value: 0.401494\n",
      "         Iterations 7\n"
     ]
    },
    {
     "data": {
      "text/html": [
       "<table class=\"simpletable\">\n",
       "<caption>Logit Regression Results</caption>\n",
       "<tr>\n",
       "  <th>Dep. Variable:</th>         <td>Pass</td>       <th>  No. Observations:  </th>  <td>    20</td>  \n",
       "</tr>\n",
       "<tr>\n",
       "  <th>Model:</th>                 <td>Logit</td>      <th>  Df Residuals:      </th>  <td>    18</td>  \n",
       "</tr>\n",
       "<tr>\n",
       "  <th>Method:</th>                 <td>MLE</td>       <th>  Df Model:          </th>  <td>     1</td>  \n",
       "</tr>\n",
       "<tr>\n",
       "  <th>Date:</th>            <td>Tue, 03 Aug 2021</td> <th>  Pseudo R-squ.:     </th>  <td>0.4208</td>  \n",
       "</tr>\n",
       "<tr>\n",
       "  <th>Time:</th>                <td>04:06:09</td>     <th>  Log-Likelihood:    </th> <td> -8.0299</td> \n",
       "</tr>\n",
       "<tr>\n",
       "  <th>converged:</th>             <td>True</td>       <th>  LL-Null:           </th> <td> -13.863</td> \n",
       "</tr>\n",
       "<tr>\n",
       "  <th>Covariance Type:</th>     <td>nonrobust</td>    <th>  LLR p-value:       </th> <td>0.0006365</td>\n",
       "</tr>\n",
       "</table>\n",
       "<table class=\"simpletable\">\n",
       "<tr>\n",
       "      <td></td>         <th>coef</th>     <th>std err</th>      <th>z</th>      <th>P>|z|</th>  <th>[0.025</th>    <th>0.975]</th>  \n",
       "</tr>\n",
       "<tr>\n",
       "  <th>Intercept</th> <td>   -4.0777</td> <td>    1.761</td> <td>   -2.316</td> <td> 0.021</td> <td>   -7.529</td> <td>   -0.626</td>\n",
       "</tr>\n",
       "<tr>\n",
       "  <th>Hours</th>     <td>    1.5046</td> <td>    0.629</td> <td>    2.393</td> <td> 0.017</td> <td>    0.272</td> <td>    2.737</td>\n",
       "</tr>\n",
       "</table>"
      ],
      "text/plain": [
       "<class 'statsmodels.iolib.summary.Summary'>\n",
       "\"\"\"\n",
       "                           Logit Regression Results                           \n",
       "==============================================================================\n",
       "Dep. Variable:                   Pass   No. Observations:                   20\n",
       "Model:                          Logit   Df Residuals:                       18\n",
       "Method:                           MLE   Df Model:                            1\n",
       "Date:                Tue, 03 Aug 2021   Pseudo R-squ.:                  0.4208\n",
       "Time:                        04:06:09   Log-Likelihood:                -8.0299\n",
       "converged:                       True   LL-Null:                       -13.863\n",
       "Covariance Type:            nonrobust   LLR p-value:                 0.0006365\n",
       "==============================================================================\n",
       "                 coef    std err          z      P>|z|      [0.025      0.975]\n",
       "------------------------------------------------------------------------------\n",
       "Intercept     -4.0777      1.761     -2.316      0.021      -7.529      -0.626\n",
       "Hours          1.5046      0.629      2.393      0.017       0.272       2.737\n",
       "==============================================================================\n",
       "\"\"\""
      ]
     },
     "execution_count": 4,
     "metadata": {},
     "output_type": "execute_result"
    }
   ],
   "source": [
    "res = sm.Logit.from_formula('Pass ~ Hours',data = exam).fit()\n",
    "\n",
    "res.summary()"
   ]
  },
  {
   "cell_type": "code",
   "execution_count": 5,
   "metadata": {},
   "outputs": [
    {
     "data": {
      "text/plain": [
       "0    0.255703\n",
       "1    0.874448\n",
       "dtype: float64"
      ]
     },
     "execution_count": 5,
     "metadata": {},
     "output_type": "execute_result"
    }
   ],
   "source": [
    "# Predict at some point\n",
    "sample = {'Hours':[2, 4], }\n",
    "sample_df = pd.DataFrame(sample)\n",
    "# Can also use sample without being on dataframe\n",
    "res.predict(sample_df)"
   ]
  },
  {
   "cell_type": "code",
   "execution_count": 6,
   "metadata": {},
   "outputs": [
    {
     "data": {
      "image/png": "[encoded data removed]",
      "text/plain": [
       "<Figure size 432x288 with 1 Axes>"
      ]
     },
     "metadata": {
      "needs_background": "light"
     },
     "output_type": "display_data"
    }
   ],
   "source": [
    "plt.plot(exam['Hours'], res.predict(), 'o', label = 'Predicted')\n",
    "plt.plot(exam['Hours'], exam['Pass'], 'r+', label = 'Data')\n",
    "plt.legend(loc = 'center right')\n",
    "plt.show()"
   ]
  },
  {
   "cell_type": "code",
   "execution_count": 7,
   "metadata": {},
   "outputs": [
    {
     "name": "stdout",
     "output_type": "stream",
     "text": [
      "971 samples were processed\n"
     ]
    },
    {
     "data": {
      "text/plain": [
       "<matplotlib.legend.Legend at 0x1fe45307c48>"
      ]
     },
     "execution_count": 7,
     "metadata": {},
     "output_type": "execute_result"
    },
    {
     "data": {
      "image/png": "[encoded data removed]",
      "text/plain": [
       "<Figure size 432x288 with 1 Axes>"
      ]
     },
     "metadata": {
      "needs_background": "light"
     },
     "output_type": "display_data"
    }
   ],
   "source": [
    "# Bootstrap mothod for confidence intervals\n",
    "\n",
    "# Turn off statsmodels warnings\n",
    "with warnings.catch_warnings():\n",
    "    warnings.filterwarnings(\"ignore\")\n",
    "\n",
    "    x = np.array(exam['Hours'])\n",
    "    X = sm.add_constant(x)\n",
    "    y = exam['Pass']\n",
    "\n",
    "    preds = []\n",
    "\n",
    "    # count holds successful fit run count\n",
    "    count = 0\n",
    "\n",
    "    for trial in range(1000):\n",
    "    \n",
    "        # get sub‐sample\n",
    "        exam_sample = exam.sample(frac = 1,replace = True)\n",
    "    \n",
    "        # fit and predict\n",
    "        try:\n",
    "            x_sample = np.array(exam_sample['Hours'])\n",
    "            X_sample = sm.add_constant(x_sample)\n",
    "            y_sample = exam_sample['Pass']\n",
    "            # disp=0 will suppress suprious convergece message\n",
    "            res_sample = sm.Logit(y_sample,X_sample).fit(disp = 0)\n",
    "            preds.append(res_sample.predict(X))\n",
    "            count = count + 1\n",
    "        except:\n",
    "            pass\n",
    "        # end try\n",
    "    # end for\n",
    "\n",
    "print(f'{count} samples were processed')\n",
    "# get array of predictions into numpy format\n",
    "predictions_array = np.array(preds)\n",
    "\n",
    "plt.plot(exam['Hours'],exam['Pass'],'r+',label = 'Actuals')\n",
    "\n",
    "plt.plot(exam['Hours'],res.predict(),'o',label = 'Predictions')\n",
    "\n",
    "plt.plot(exam['Hours'], np.percentile(predictions_array, 97.5, axis = 0),label = '95% CI limit',)\n",
    "\n",
    "plt.plot(exam['Hours'],np.percentile(predictions_array, 2.5, axis = 0),label = '95% CI limit',)\n",
    "\n",
    "plt.legend(loc = 'lower right')"
   ]
  }
 ],
 "metadata": {
  "kernelspec": {
   "display_name": "Python 3 (ipykernel)",
   "language": "python",
   "name": "python3"
  },
  "language_info": {
   "codemirror_mode": {
    "name": "ipython",
    "version": 3
   },
   "file_extension": ".py",
   "mimetype": "text/x-python",
   "name": "python",
   "nbconvert_exporter": "python",
   "pygments_lexer": "ipython3",
   "version": "3.10.2"
  }
 },
 "nbformat": 4,
 "nbformat_minor": 4
}
