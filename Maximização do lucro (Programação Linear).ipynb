{
 "cells": [
  {
   "cell_type": "markdown",
   "metadata": {},
   "source": [
    "<strong><em> Importando pacote <strong><em>"
   ]
  },
  {
   "cell_type": "code",
   "execution_count": 1,
   "metadata": {},
   "outputs": [],
   "source": [
    "# Importando o metodo modelo do pacote docplex\n",
    "from docplex.mp.model import Model"
   ]
  },
  {
   "cell_type": "code",
   "execution_count": 2,
   "metadata": {},
   "outputs": [],
   "source": [
    "# Criando a função\n",
    "m = Model(name = 'Profit with no cost')"
   ]
  },
  {
   "cell_type": "markdown",
   "metadata": {},
   "source": [
    "<strong><em> Variáveis <strong><em>"
   ]
  },
  {
   "cell_type": "code",
   "execution_count": 3,
   "metadata": {},
   "outputs": [],
   "source": [
    "# Criando variaveis para tintas exteriores (A) e interiores (B)\n",
    "produto_a = m.integer_var(name = 'produto_a')\n",
    "produto_b = m.integer_var(name = 'produto_b')\n",
    "produto_c = m.integer_var(name = 'produto_c')\n",
    "produto_d = m.integer_var(name = 'produto_d')\n",
    "produto_e = m.integer_var(name = 'produto_e')"
   ]
  },
  {
   "cell_type": "code",
   "execution_count": 4,
   "metadata": {},
   "outputs": [],
   "source": [
    "produto_a_materia_prima_a = 0.2\n",
    "produto_a_materia_prima_b = 0.1\n",
    "produto_a_materia_prima_c = 0.3\n",
    "produto_a_materia_prima_d = 0.2"
   ]
  },
  {
   "cell_type": "code",
   "execution_count": 5,
   "metadata": {},
   "outputs": [],
   "source": [
    "produto_b_materia_prima_a = 0.1\n",
    "produto_b_materia_prima_b = 0.2\n",
    "produto_b_materia_prima_c = 0.2\n",
    "produto_b_materia_prima_d = 0.3"
   ]
  },
  {
   "cell_type": "code",
   "execution_count": 6,
   "metadata": {},
   "outputs": [],
   "source": [
    "produto_c_materia_prima_a = 0.15\n",
    "produto_c_materia_prima_b = 0.15\n",
    "produto_c_materia_prima_c = 0.25\n",
    "produto_c_materia_prima_d = 0.25"
   ]
  },
  {
   "cell_type": "code",
   "execution_count": 7,
   "metadata": {},
   "outputs": [],
   "source": [
    "produto_d_materia_prima_a = 0.2\n",
    "produto_d_materia_prima_b = 0.1\n",
    "produto_d_materia_prima_c = 0.35\n",
    "produto_d_materia_prima_d = 0.1"
   ]
  },
  {
   "cell_type": "code",
   "execution_count": 8,
   "metadata": {},
   "outputs": [],
   "source": [
    "produto_e_materia_prima_a = 0.15\n",
    "produto_e_materia_prima_b = 0.2\n",
    "produto_e_materia_prima_c = 0.15\n",
    "produto_e_materia_prima_d = 0.2"
   ]
  },
  {
   "cell_type": "code",
   "execution_count": 9,
   "metadata": {},
   "outputs": [],
   "source": [
    "# Preço das tintas A e B\n",
    "produto_a_price = 15\n",
    "produto_b_price = 14\n",
    "produto_c_price = 11\n",
    "produto_d_price = 13\n",
    "produto_e_price = 10"
   ]
  },
  {
   "cell_type": "markdown",
   "metadata": {},
   "source": [
    "<strong><em> Restrições <strong><em>"
   ]
  },
  {
   "cell_type": "code",
   "execution_count": 10,
   "metadata": {},
   "outputs": [],
   "source": [
    "prod_a = m.add_constraint(m.sum([produto_a*produto_a_materia_prima_a, \n",
    "                                 produto_a*produto_a_materia_prima_b,\n",
    "                                 produto_a*produto_a_materia_prima_c, \n",
    "                                 produto_a*produto_a_materia_prima_d]) <= 100)"
   ]
  },
  {
   "cell_type": "code",
   "execution_count": 11,
   "metadata": {},
   "outputs": [],
   "source": [
    "prod_b = m.add_constraint(m.sum([produto_b*produto_b_materia_prima_a, \n",
    "                                 produto_b*produto_b_materia_prima_b,\n",
    "                                 produto_b*produto_b_materia_prima_c, \n",
    "                                 produto_b*produto_b_materia_prima_d]) <= 100)"
   ]
  },
  {
   "cell_type": "code",
   "execution_count": 12,
   "metadata": {},
   "outputs": [],
   "source": [
    "prod_c = m.add_constraint(m.sum([produto_c*produto_c_materia_prima_a, \n",
    "                                 produto_c*produto_c_materia_prima_b,\n",
    "                                 produto_c*produto_c_materia_prima_c, \n",
    "                                 produto_c*produto_c_materia_prima_d]) <= 100)"
   ]
  },
  {
   "cell_type": "code",
   "execution_count": 13,
   "metadata": {},
   "outputs": [],
   "source": [
    "prod_d = m.add_constraint(m.sum([produto_d*produto_d_materia_prima_a, \n",
    "                                 produto_d*produto_d_materia_prima_b,\n",
    "                                 produto_d*produto_d_materia_prima_c, \n",
    "                                 produto_d*produto_d_materia_prima_d]) <= 100)"
   ]
  },
  {
   "cell_type": "code",
   "execution_count": 14,
   "metadata": {},
   "outputs": [],
   "source": [
    "prod_e = m.add_constraint(m.sum([produto_e*produto_e_materia_prima_a, \n",
    "                                 produto_e*produto_e_materia_prima_b,\n",
    "                                 produto_e*produto_e_materia_prima_c, \n",
    "                                 produto_e*produto_e_materia_prima_d]) <= 100)"
   ]
  },
  {
   "cell_type": "markdown",
   "metadata": {},
   "source": [
    "<strong><em> Objetivo <strong><em>"
   ]
  },
  {
   "cell_type": "code",
   "execution_count": 24,
   "metadata": {},
   "outputs": [],
   "source": [
    "# Maximizar a função lucro \n",
    "m.maximize(m.sum([produto_a*produto_a_price,\n",
    "                  produto_b*produto_b_price,\n",
    "                  produto_c*produto_c_price,\n",
    "                  produto_d*produto_d_price,\n",
    "                  produto_e*produto_e_price]))"
   ]
  },
  {
   "cell_type": "markdown",
   "metadata": {},
   "source": [
    "<strong><em> Solução <strong><em>"
   ]
  },
  {
   "cell_type": "code",
   "execution_count": 25,
   "metadata": {},
   "outputs": [],
   "source": [
    "# Solução do problema\n",
    "sol = m.solve()"
   ]
  },
  {
   "cell_type": "code",
   "execution_count": 26,
   "metadata": {},
   "outputs": [
    {
     "name": "stdout",
     "output_type": "stream",
     "text": [
      "Model: Profit with no cost\n",
      " - number of variables: 5\n",
      "   - binary=0, integer=5, continuous=0\n",
      " - number of constraints: 5\n",
      "   - linear=5\n",
      " - parameters: defaults\n",
      " - objective: maximize\n",
      " - problem type is: MILP\n"
     ]
    }
   ],
   "source": [
    "# Informações sobre o modelo\n",
    "m.print_information()"
   ]
  },
  {
   "cell_type": "code",
   "execution_count": 27,
   "metadata": {},
   "outputs": [
    {
     "name": "stdout",
     "output_type": "stream",
     "text": [
      "solution for: Profit with no cost\n",
      "objective: 8149\n",
      "produto_a = 125\n",
      "produto_b = 125\n",
      "produto_c = 125\n",
      "produto_d = 133\n",
      "produto_e = 142\n"
     ]
    }
   ],
   "source": [
    "# Demonstração das variáveis\n",
    "sol.display()"
   ]
  }
 ],
 "metadata": {
  "kernelspec": {
   "display_name": "Python 3 (ipykernel)",
   "language": "python",
   "name": "python3"
  },
  "language_info": {
   "codemirror_mode": {
    "name": "ipython",
    "version": 3
   },
   "file_extension": ".py",
   "mimetype": "text/x-python",
   "name": "python",
   "nbconvert_exporter": "python",
   "pygments_lexer": "ipython3",
   "version": "3.10.2"
  }
 },
 "nbformat": 4,
 "nbformat_minor": 4
}
